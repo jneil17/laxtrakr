{
 "cells": [
  {
   "cell_type": "code",
   "execution_count": 58,
   "metadata": {},
   "outputs": [
    {
     "data": {},
     "metadata": {},
     "output_type": "display_data"
    },
    {
     "data": {},
     "metadata": {},
     "output_type": "display_data"
    },
    {
     "data": {
      "application/vnd.holoviews_exec.v0+json": "",
      "text/html": [
       "<div id='43698'>\n",
       "  <div class=\"bk-root\" id=\"5470849f-8b4b-4772-8ee7-b0608da900a9\" data-root-id=\"43698\"></div>\n",
       "</div>\n",
       "<script type=\"application/javascript\">(function(root) {\n",
       "  function embed_document(root) {\n",
       "    var docs_json = {\"a6de920a-26ce-4b8a-a448-a0760ff8a495\":{\"defs\":[{\"extends\":null,\"module\":null,\"name\":\"ReactiveHTML1\",\"overrides\":[],\"properties\":[]},{\"extends\":null,\"module\":null,\"name\":\"FlexBox1\",\"overrides\":[],\"properties\":[{\"default\":\"flex-start\",\"kind\":null,\"name\":\"align_content\"},{\"default\":\"flex-start\",\"kind\":null,\"name\":\"align_items\"},{\"default\":\"row\",\"kind\":null,\"name\":\"flex_direction\"},{\"default\":\"wrap\",\"kind\":null,\"name\":\"flex_wrap\"},{\"default\":\"flex-start\",\"kind\":null,\"name\":\"justify_content\"}]},{\"extends\":null,\"module\":null,\"name\":\"GridStack1\",\"overrides\":[],\"properties\":[{\"default\":\"warn\",\"kind\":null,\"name\":\"mode\"},{\"default\":null,\"kind\":null,\"name\":\"ncols\"},{\"default\":null,\"kind\":null,\"name\":\"nrows\"},{\"default\":true,\"kind\":null,\"name\":\"allow_resize\"},{\"default\":true,\"kind\":null,\"name\":\"allow_drag\"},{\"default\":[],\"kind\":null,\"name\":\"state\"}]},{\"extends\":null,\"module\":null,\"name\":\"click1\",\"overrides\":[],\"properties\":[{\"default\":\"\",\"kind\":null,\"name\":\"terminal_output\"},{\"default\":\"\",\"kind\":null,\"name\":\"debug_name\"},{\"default\":0,\"kind\":null,\"name\":\"clears\"}]},{\"extends\":null,\"module\":null,\"name\":\"NotificationAreaBase1\",\"overrides\":[],\"properties\":[{\"default\":\"bottom-right\",\"kind\":null,\"name\":\"position\"},{\"default\":0,\"kind\":null,\"name\":\"_clear\"}]},{\"extends\":null,\"module\":null,\"name\":\"NotificationArea1\",\"overrides\":[],\"properties\":[{\"default\":[],\"kind\":null,\"name\":\"notifications\"},{\"default\":\"bottom-right\",\"kind\":null,\"name\":\"position\"},{\"default\":0,\"kind\":null,\"name\":\"_clear\"},{\"default\":[{\"background\":\"#ffc107\",\"icon\":{\"className\":\"fas fa-exclamation-triangle\",\"color\":\"white\",\"tagName\":\"i\"},\"type\":\"warning\"},{\"background\":\"#007bff\",\"icon\":{\"className\":\"fas fa-info-circle\",\"color\":\"white\",\"tagName\":\"i\"},\"type\":\"info\"}],\"kind\":null,\"name\":\"types\"}]},{\"extends\":null,\"module\":null,\"name\":\"Notification\",\"overrides\":[],\"properties\":[{\"default\":null,\"kind\":null,\"name\":\"background\"},{\"default\":3000,\"kind\":null,\"name\":\"duration\"},{\"default\":null,\"kind\":null,\"name\":\"icon\"},{\"default\":\"\",\"kind\":null,\"name\":\"message\"},{\"default\":null,\"kind\":null,\"name\":\"notification_type\"},{\"default\":false,\"kind\":null,\"name\":\"_destroyed\"}]},{\"extends\":null,\"module\":null,\"name\":\"TemplateActions1\",\"overrides\":[],\"properties\":[{\"default\":0,\"kind\":null,\"name\":\"open_modal\"},{\"default\":0,\"kind\":null,\"name\":\"close_modal\"}]},{\"extends\":null,\"module\":null,\"name\":\"MaterialTemplateActions1\",\"overrides\":[],\"properties\":[{\"default\":0,\"kind\":null,\"name\":\"open_modal\"},{\"default\":0,\"kind\":null,\"name\":\"close_modal\"}]}],\"roots\":{\"references\":[{\"attributes\":{\"line_color\":\"#30a2da\",\"line_width\":2,\"x\":{\"field\":\"time\"},\"y\":{\"field\":\"Wind_Speed\"}},\"id\":\"43743\",\"type\":\"Line\"},{\"attributes\":{\"below\":[{\"id\":\"43714\"}],\"center\":[{\"id\":\"43717\"},{\"id\":\"43721\"}],\"height\":300,\"left\":[{\"id\":\"43718\"}],\"margin\":[5,5,5,5],\"min_border_bottom\":10,\"min_border_left\":10,\"min_border_right\":10,\"min_border_top\":10,\"renderers\":[{\"id\":\"43741\"}],\"sizing_mode\":\"fixed\",\"title\":{\"id\":\"43706\"},\"toolbar\":{\"id\":\"43728\"},\"width\":700,\"x_range\":{\"id\":\"43702\"},\"x_scale\":{\"id\":\"43710\"},\"y_range\":{\"id\":\"43703\"},\"y_scale\":{\"id\":\"43712\"}},\"id\":\"43705\",\"subtype\":\"Figure\",\"type\":\"Plot\"},{\"attributes\":{\"children\":[{\"id\":\"43700\"}],\"margin\":[0,0,0,0],\"name\":\"Row737389\"},\"id\":\"43699\",\"type\":\"Row\"},{\"attributes\":{},\"id\":\"43710\",\"type\":\"LinearScale\"},{\"attributes\":{\"mantissas\":[1,2,5],\"max_interval\":500.0,\"num_minor_ticks\":0},\"id\":\"43760\",\"type\":\"AdaptiveTicker\"},{\"attributes\":{\"css_classes\":[\"markdown\"],\"margin\":[5,5,5,5],\"name\":\"Markdown737387\",\"text\":\"&lt;h1&gt;Your Current Reps&lt;/h1&gt;\"},\"id\":\"43700\",\"type\":\"panel.models.markup.HTML\"},{\"attributes\":{},\"id\":\"43726\",\"type\":\"ResetTool\"},{\"attributes\":{\"data\":{},\"selected\":{\"id\":\"43782\"},\"selection_policy\":{\"id\":\"43781\"}},\"id\":\"43772\",\"type\":\"ColumnDataSource\"},{\"attributes\":{\"data\":{\"Wind_Speed\":{\"__ndarray__\":\"\",\"dtype\":\"float64\",\"order\":\"little\",\"shape\":[0]},\"time\":{\"__ndarray__\":\"\",\"dtype\":\"float64\",\"order\":\"little\",\"shape\":[0]}},\"selected\":{\"id\":\"43736\"},\"selection_policy\":{\"id\":\"43757\"}},\"id\":\"43735\",\"type\":\"ColumnDataSource\"},{\"attributes\":{},\"id\":\"43748\",\"type\":\"BasicTickFormatter\"},{\"attributes\":{\"coordinates\":null,\"group\":null,\"text\":\"Humidity\",\"text_color\":\"black\",\"text_font_size\":\"12pt\"},\"id\":\"43706\",\"type\":\"Title\"},{\"attributes\":{},\"id\":\"43782\",\"type\":\"Selection\"},{\"attributes\":{},\"id\":\"43757\",\"type\":\"UnionRenderers\"},{\"attributes\":{\"client_comm_id\":\"7f3bf037691749a4b6364dc54ee0adf6\",\"comm_id\":\"f0613d34875c4bc0aa59ddc191bffa18\",\"plot_id\":\"43698\"},\"id\":\"43846\",\"type\":\"panel.models.comm_manager.CommManager\"},{\"attributes\":{\"axis_label\":\"Wind_Speed\",\"coordinates\":null,\"formatter\":{\"id\":\"43748\"},\"group\":null,\"major_label_policy\":{\"id\":\"43749\"},\"ticker\":{\"id\":\"43719\"}},\"id\":\"43718\",\"type\":\"LinearAxis\"},{\"attributes\":{\"data\":[{\"mode\":\"number\",\"title\":{\"text\":\"Reps\"},\"type\":\"indicator\",\"value\":72}],\"data_sources\":[{\"id\":\"43772\"}],\"layout\":{\"height\":200,\"paper_bgcolor\":\"white\",\"template\":{\"data\":{\"bar\":[{\"error_x\":{\"color\":\"#2a3f5f\"},\"error_y\":{\"color\":\"#2a3f5f\"},\"marker\":{\"line\":{\"color\":\"#E5ECF6\",\"width\":0.5},\"pattern\":{\"fillmode\":\"overlay\",\"size\":10,\"solidity\":0.2}},\"type\":\"bar\"}],\"barpolar\":[{\"marker\":{\"line\":{\"color\":\"#E5ECF6\",\"width\":0.5},\"pattern\":{\"fillmode\":\"overlay\",\"size\":10,\"solidity\":0.2}},\"type\":\"barpolar\"}],\"carpet\":[{\"aaxis\":{\"endlinecolor\":\"#2a3f5f\",\"gridcolor\":\"white\",\"linecolor\":\"white\",\"minorgridcolor\":\"white\",\"startlinecolor\":\"#2a3f5f\"},\"baxis\":{\"endlinecolor\":\"#2a3f5f\",\"gridcolor\":\"white\",\"linecolor\":\"white\",\"minorgridcolor\":\"white\",\"startlinecolor\":\"#2a3f5f\"},\"type\":\"carpet\"}],\"choropleth\":[{\"colorbar\":{\"outlinewidth\":0,\"ticks\":\"\"},\"type\":\"choropleth\"}],\"contour\":[{\"colorbar\":{\"outlinewidth\":0,\"ticks\":\"\"},\"colorscale\":[[0.0,\"#0d0887\"],[0.1111111111111111,\"#46039f\"],[0.2222222222222222,\"#7201a8\"],[0.3333333333333333,\"#9c179e\"],[0.4444444444444444,\"#bd3786\"],[0.5555555555555556,\"#d8576b\"],[0.6666666666666666,\"#ed7953\"],[0.7777777777777778,\"#fb9f3a\"],[0.8888888888888888,\"#fdca26\"],[1.0,\"#f0f921\"]],\"type\":\"contour\"}],\"contourcarpet\":[{\"colorbar\":{\"outlinewidth\":0,\"ticks\":\"\"},\"type\":\"contourcarpet\"}],\"heatmap\":[{\"colorbar\":{\"outlinewidth\":0,\"ticks\":\"\"},\"colorscale\":[[0.0,\"#0d0887\"],[0.1111111111111111,\"#46039f\"],[0.2222222222222222,\"#7201a8\"],[0.3333333333333333,\"#9c179e\"],[0.4444444444444444,\"#bd3786\"],[0.5555555555555556,\"#d8576b\"],[0.6666666666666666,\"#ed7953\"],[0.7777777777777778,\"#fb9f3a\"],[0.8888888888888888,\"#fdca26\"],[1.0,\"#f0f921\"]],\"type\":\"heatmap\"}],\"heatmapgl\":[{\"colorbar\":{\"outlinewidth\":0,\"ticks\":\"\"},\"colorscale\":[[0.0,\"#0d0887\"],[0.1111111111111111,\"#46039f\"],[0.2222222222222222,\"#7201a8\"],[0.3333333333333333,\"#9c179e\"],[0.4444444444444444,\"#bd3786\"],[0.5555555555555556,\"#d8576b\"],[0.6666666666666666,\"#ed7953\"],[0.7777777777777778,\"#fb9f3a\"],[0.8888888888888888,\"#fdca26\"],[1.0,\"#f0f921\"]],\"type\":\"heatmapgl\"}],\"histogram\":[{\"marker\":{\"pattern\":{\"fillmode\":\"overlay\",\"size\":10,\"solidity\":0.2}},\"type\":\"histogram\"}],\"histogram2d\":[{\"colorbar\":{\"outlinewidth\":0,\"ticks\":\"\"},\"colorscale\":[[0.0,\"#0d0887\"],[0.1111111111111111,\"#46039f\"],[0.2222222222222222,\"#7201a8\"],[0.3333333333333333,\"#9c179e\"],[0.4444444444444444,\"#bd3786\"],[0.5555555555555556,\"#d8576b\"],[0.6666666666666666,\"#ed7953\"],[0.7777777777777778,\"#fb9f3a\"],[0.8888888888888888,\"#fdca26\"],[1.0,\"#f0f921\"]],\"type\":\"histogram2d\"}],\"histogram2dcontour\":[{\"colorbar\":{\"outlinewidth\":0,\"ticks\":\"\"},\"colorscale\":[[0.0,\"#0d0887\"],[0.1111111111111111,\"#46039f\"],[0.2222222222222222,\"#7201a8\"],[0.3333333333333333,\"#9c179e\"],[0.4444444444444444,\"#bd3786\"],[0.5555555555555556,\"#d8576b\"],[0.6666666666666666,\"#ed7953\"],[0.7777777777777778,\"#fb9f3a\"],[0.8888888888888888,\"#fdca26\"],[1.0,\"#f0f921\"]],\"type\":\"histogram2dcontour\"}],\"mesh3d\":[{\"colorbar\":{\"outlinewidth\":0,\"ticks\":\"\"},\"type\":\"mesh3d\"}],\"parcoords\":[{\"line\":{\"colorbar\":{\"outlinewidth\":0,\"ticks\":\"\"}},\"type\":\"parcoords\"}],\"pie\":[{\"automargin\":true,\"type\":\"pie\"}],\"scatter\":[{\"fillpattern\":{\"fillmode\":\"overlay\",\"size\":10,\"solidity\":0.2},\"type\":\"scatter\"}],\"scatter3d\":[{\"line\":{\"colorbar\":{\"outlinewidth\":0,\"ticks\":\"\"}},\"marker\":{\"colorbar\":{\"outlinewidth\":0,\"ticks\":\"\"}},\"type\":\"scatter3d\"}],\"scattercarpet\":[{\"marker\":{\"colorbar\":{\"outlinewidth\":0,\"ticks\":\"\"}},\"type\":\"scattercarpet\"}],\"scattergeo\":[{\"marker\":{\"colorbar\":{\"outlinewidth\":0,\"ticks\":\"\"}},\"type\":\"scattergeo\"}],\"scattergl\":[{\"marker\":{\"colorbar\":{\"outlinewidth\":0,\"ticks\":\"\"}},\"type\":\"scattergl\"}],\"scattermapbox\":[{\"marker\":{\"colorbar\":{\"outlinewidth\":0,\"ticks\":\"\"}},\"type\":\"scattermapbox\"}],\"scatterpolar\":[{\"marker\":{\"colorbar\":{\"outlinewidth\":0,\"ticks\":\"\"}},\"type\":\"scatterpolar\"}],\"scatterpolargl\":[{\"marker\":{\"colorbar\":{\"outlinewidth\":0,\"ticks\":\"\"}},\"type\":\"scatterpolargl\"}],\"scatterternary\":[{\"marker\":{\"colorbar\":{\"outlinewidth\":0,\"ticks\":\"\"}},\"type\":\"scatterternary\"}],\"surface\":[{\"colorbar\":{\"outlinewidth\":0,\"ticks\":\"\"},\"colorscale\":[[0.0,\"#0d0887\"],[0.1111111111111111,\"#46039f\"],[0.2222222222222222,\"#7201a8\"],[0.3333333333333333,\"#9c179e\"],[0.4444444444444444,\"#bd3786\"],[0.5555555555555556,\"#d8576b\"],[0.6666666666666666,\"#ed7953\"],[0.7777777777777778,\"#fb9f3a\"],[0.8888888888888888,\"#fdca26\"],[1.0,\"#f0f921\"]],\"type\":\"surface\"}],\"table\":[{\"cells\":{\"fill\":{\"color\":\"#EBF0F8\"},\"line\":{\"color\":\"white\"}},\"header\":{\"fill\":{\"color\":\"#C8D4E3\"},\"line\":{\"color\":\"white\"}},\"type\":\"table\"}]},\"layout\":{\"annotationdefaults\":{\"arrowcolor\":\"#2a3f5f\",\"arrowhead\":0,\"arrowwidth\":1},\"autotypenumbers\":\"strict\",\"coloraxis\":{\"colorbar\":{\"outlinewidth\":0,\"ticks\":\"\"}},\"colorscale\":{\"diverging\":[[0,\"#8e0152\"],[0.1,\"#c51b7d\"],[0.2,\"#de77ae\"],[0.3,\"#f1b6da\"],[0.4,\"#fde0ef\"],[0.5,\"#f7f7f7\"],[0.6,\"#e6f5d0\"],[0.7,\"#b8e186\"],[0.8,\"#7fbc41\"],[0.9,\"#4d9221\"],[1,\"#276419\"]],\"sequential\":[[0.0,\"#0d0887\"],[0.1111111111111111,\"#46039f\"],[0.2222222222222222,\"#7201a8\"],[0.3333333333333333,\"#9c179e\"],[0.4444444444444444,\"#bd3786\"],[0.5555555555555556,\"#d8576b\"],[0.6666666666666666,\"#ed7953\"],[0.7777777777777778,\"#fb9f3a\"],[0.8888888888888888,\"#fdca26\"],[1.0,\"#f0f921\"]],\"sequentialminus\":[[0.0,\"#0d0887\"],[0.1111111111111111,\"#46039f\"],[0.2222222222222222,\"#7201a8\"],[0.3333333333333333,\"#9c179e\"],[0.4444444444444444,\"#bd3786\"],[0.5555555555555556,\"#d8576b\"],[0.6666666666666666,\"#ed7953\"],[0.7777777777777778,\"#fb9f3a\"],[0.8888888888888888,\"#fdca26\"],[1.0,\"#f0f921\"]]},\"colorway\":[\"#636efa\",\"#EF553B\",\"#00cc96\",\"#ab63fa\",\"#FFA15A\",\"#19d3f3\",\"#FF6692\",\"#B6E880\",\"#FF97FF\",\"#FECB52\"],\"font\":{\"color\":\"#2a3f5f\"},\"geo\":{\"bgcolor\":\"white\",\"lakecolor\":\"white\",\"landcolor\":\"#E5ECF6\",\"showlakes\":true,\"showland\":true,\"subunitcolor\":\"white\"},\"hoverlabel\":{\"align\":\"left\"},\"hovermode\":\"closest\",\"mapbox\":{\"style\":\"light\"},\"paper_bgcolor\":\"white\",\"plot_bgcolor\":\"#E5ECF6\",\"polar\":{\"angularaxis\":{\"gridcolor\":\"white\",\"linecolor\":\"white\",\"ticks\":\"\"},\"bgcolor\":\"#E5ECF6\",\"radialaxis\":{\"gridcolor\":\"white\",\"linecolor\":\"white\",\"ticks\":\"\"}},\"scene\":{\"xaxis\":{\"backgroundcolor\":\"#E5ECF6\",\"gridcolor\":\"white\",\"gridwidth\":2,\"linecolor\":\"white\",\"showbackground\":true,\"ticks\":\"\",\"zerolinecolor\":\"white\"},\"yaxis\":{\"backgroundcolor\":\"#E5ECF6\",\"gridcolor\":\"white\",\"gridwidth\":2,\"linecolor\":\"white\",\"showbackground\":true,\"ticks\":\"\",\"zerolinecolor\":\"white\"},\"zaxis\":{\"backgroundcolor\":\"#E5ECF6\",\"gridcolor\":\"white\",\"gridwidth\":2,\"linecolor\":\"white\",\"showbackground\":true,\"ticks\":\"\",\"zerolinecolor\":\"white\"}},\"shapedefaults\":{\"line\":{\"color\":\"#2a3f5f\"}},\"ternary\":{\"aaxis\":{\"gridcolor\":\"white\",\"linecolor\":\"white\",\"ticks\":\"\"},\"baxis\":{\"gridcolor\":\"white\",\"linecolor\":\"white\",\"ticks\":\"\"},\"bgcolor\":\"#E5ECF6\",\"caxis\":{\"gridcolor\":\"white\",\"linecolor\":\"white\",\"ticks\":\"\"}},\"title\":{\"x\":0.05},\"xaxis\":{\"automargin\":true,\"gridcolor\":\"white\",\"linecolor\":\"white\",\"ticks\":\"\",\"title\":{\"standoff\":15},\"zerolinecolor\":\"white\",\"zerolinewidth\":2},\"yaxis\":{\"automargin\":true,\"gridcolor\":\"white\",\"linecolor\":\"white\",\"ticks\":\"\",\"title\":{\"standoff\":15},\"zerolinecolor\":\"white\",\"zerolinewidth\":2}}},\"width\":200},\"margin\":[5,5,5,5],\"name\":\"Plotly737398\",\"viewport_update_throttle\":200},\"id\":\"43773\",\"type\":\"panel.models.plotly.PlotlyPlot\"},{\"attributes\":{\"axis_label\":\"time\",\"coordinates\":null,\"formatter\":{\"id\":\"43745\"},\"group\":null,\"major_label_policy\":{\"id\":\"43746\"},\"ticker\":{\"id\":\"43715\"}},\"id\":\"43714\",\"type\":\"DatetimeAxis\"},{\"attributes\":{\"months\":[0,2,4,6,8,10]},\"id\":\"43768\",\"type\":\"MonthsTicker\"},{\"attributes\":{},\"id\":\"43746\",\"type\":\"AllLabels\"},{\"attributes\":{\"axis\":{\"id\":\"43714\"},\"coordinates\":null,\"grid_line_color\":null,\"group\":null,\"ticker\":null},\"id\":\"43717\",\"type\":\"Grid\"},{\"attributes\":{\"children\":[{\"id\":\"43705\"},{\"id\":\"43773\"}],\"margin\":[0,0,0,0],\"name\":\"Row737400\",\"sizing_mode\":\"stretch_width\"},\"id\":\"43701\",\"type\":\"Row\"},{\"attributes\":{\"overlay\":{\"id\":\"43727\"}},\"id\":\"43725\",\"type\":\"BoxZoomTool\"},{\"attributes\":{\"days\":[1,2,3,4,5,6,7,8,9,10,11,12,13,14,15,16,17,18,19,20,21,22,23,24,25,26,27,28,29,30,31]},\"id\":\"43763\",\"type\":\"DaysTicker\"},{\"attributes\":{},\"id\":\"43724\",\"type\":\"WheelZoomTool\"},{\"attributes\":{\"months\":[0,6]},\"id\":\"43770\",\"type\":\"MonthsTicker\"},{\"attributes\":{},\"id\":\"43781\",\"type\":\"UnionRenderers\"},{\"attributes\":{},\"id\":\"43719\",\"type\":\"BasicTicker\"},{\"attributes\":{},\"id\":\"43712\",\"type\":\"LinearScale\"},{\"attributes\":{},\"id\":\"43749\",\"type\":\"AllLabels\"},{\"attributes\":{\"tools\":[{\"id\":\"43704\"},{\"id\":\"43722\"},{\"id\":\"43723\"},{\"id\":\"43724\"},{\"id\":\"43725\"},{\"id\":\"43726\"}]},\"id\":\"43728\",\"type\":\"Toolbar\"},{\"attributes\":{\"num_minor_ticks\":5,\"tickers\":[{\"id\":\"43760\"},{\"id\":\"43761\"},{\"id\":\"43762\"},{\"id\":\"43763\"},{\"id\":\"43764\"},{\"id\":\"43765\"},{\"id\":\"43766\"},{\"id\":\"43767\"},{\"id\":\"43768\"},{\"id\":\"43769\"},{\"id\":\"43770\"},{\"id\":\"43771\"}]},\"id\":\"43715\",\"type\":\"DatetimeTicker\"},{\"attributes\":{\"line_alpha\":0.2,\"line_color\":\"#30a2da\",\"line_width\":2,\"x\":{\"field\":\"time\"},\"y\":{\"field\":\"Wind_Speed\"}},\"id\":\"43740\",\"type\":\"Line\"},{\"attributes\":{\"children\":[{\"id\":\"43699\"},{\"id\":\"43701\"}],\"margin\":[0,0,0,0],\"name\":\"Column737401\"},\"id\":\"43698\",\"type\":\"Column\"},{\"attributes\":{},\"id\":\"43722\",\"type\":\"SaveTool\"},{\"attributes\":{},\"id\":\"43771\",\"type\":\"YearsTicker\"},{\"attributes\":{\"bottom_units\":\"screen\",\"coordinates\":null,\"fill_alpha\":0.5,\"fill_color\":\"lightgrey\",\"group\":null,\"left_units\":\"screen\",\"level\":\"overlay\",\"line_alpha\":1.0,\"line_color\":\"black\",\"line_dash\":[4,4],\"line_width\":2,\"right_units\":\"screen\",\"syncable\":false,\"top_units\":\"screen\"},\"id\":\"43727\",\"type\":\"BoxAnnotation\"},{\"attributes\":{\"tags\":[[[\"time\",\"time\",null]]]},\"id\":\"43702\",\"type\":\"Range1d\"},{\"attributes\":{\"line_color\":\"#30a2da\",\"line_width\":2,\"x\":{\"field\":\"time\"},\"y\":{\"field\":\"Wind_Speed\"}},\"id\":\"43738\",\"type\":\"Line\"},{\"attributes\":{\"days\":[1,15]},\"id\":\"43766\",\"type\":\"DaysTicker\"},{\"attributes\":{},\"id\":\"43745\",\"type\":\"DatetimeTickFormatter\"},{\"attributes\":{\"months\":[0,4,8]},\"id\":\"43769\",\"type\":\"MonthsTicker\"},{\"attributes\":{},\"id\":\"43723\",\"type\":\"PanTool\"},{\"attributes\":{\"coordinates\":null,\"data_source\":{\"id\":\"43735\"},\"glyph\":{\"id\":\"43738\"},\"group\":null,\"hover_glyph\":null,\"muted_glyph\":{\"id\":\"43740\"},\"nonselection_glyph\":{\"id\":\"43739\"},\"selection_glyph\":{\"id\":\"43743\"},\"view\":{\"id\":\"43742\"}},\"id\":\"43741\",\"type\":\"GlyphRenderer\"},{\"attributes\":{\"base\":60,\"mantissas\":[1,2,5,10,15,20,30],\"max_interval\":1800000.0,\"min_interval\":1000.0,\"num_minor_ticks\":0},\"id\":\"43761\",\"type\":\"AdaptiveTicker\"},{\"attributes\":{\"callback\":null,\"renderers\":[{\"id\":\"43741\"}],\"tags\":[\"hv_created\"],\"tooltips\":[[\"time\",\"@{time}\"],[\"Wind_Speed\",\"@{Wind_Speed}\"]]},\"id\":\"43704\",\"type\":\"HoverTool\"},{\"attributes\":{\"days\":[1,8,15,22]},\"id\":\"43765\",\"type\":\"DaysTicker\"},{\"attributes\":{\"tags\":[[[\"Wind_Speed\",\"Wind_Speed\",null]]]},\"id\":\"43703\",\"type\":\"Range1d\"},{\"attributes\":{\"days\":[1,4,7,10,13,16,19,22,25,28]},\"id\":\"43764\",\"type\":\"DaysTicker\"},{\"attributes\":{\"source\":{\"id\":\"43735\"}},\"id\":\"43742\",\"type\":\"CDSView\"},{\"attributes\":{\"axis\":{\"id\":\"43718\"},\"coordinates\":null,\"dimension\":1,\"grid_line_color\":null,\"group\":null,\"ticker\":null},\"id\":\"43721\",\"type\":\"Grid\"},{\"attributes\":{\"base\":24,\"mantissas\":[1,2,4,6,8,12],\"max_interval\":43200000.0,\"min_interval\":3600000.0,\"num_minor_ticks\":0},\"id\":\"43762\",\"type\":\"AdaptiveTicker\"},{\"attributes\":{\"months\":[0,1,2,3,4,5,6,7,8,9,10,11]},\"id\":\"43767\",\"type\":\"MonthsTicker\"},{\"attributes\":{},\"id\":\"43736\",\"type\":\"Selection\"},{\"attributes\":{\"line_alpha\":0.1,\"line_color\":\"#30a2da\",\"line_width\":2,\"x\":{\"field\":\"time\"},\"y\":{\"field\":\"Wind_Speed\"}},\"id\":\"43739\",\"type\":\"Line\"}],\"root_ids\":[\"43698\",\"43846\"]},\"title\":\"Bokeh Application\",\"version\":\"2.4.3\"}};\n",
       "    var render_items = [{\"docid\":\"a6de920a-26ce-4b8a-a448-a0760ff8a495\",\"root_ids\":[\"43698\"],\"roots\":{\"43698\":\"5470849f-8b4b-4772-8ee7-b0608da900a9\"}}];\n",
       "    root.Bokeh.embed.embed_items_notebook(docs_json, render_items);\n",
       "  }\n",
       "  if (root.Bokeh !== undefined && root.Bokeh.Panel !== undefined) {\n",
       "    embed_document(root);\n",
       "  } else {\n",
       "    var attempts = 0;\n",
       "    var timer = setInterval(function(root) {\n",
       "      if (root.Bokeh !== undefined && root.Bokeh.Panel !== undefined) {\n",
       "        clearInterval(timer);\n",
       "        embed_document(root);\n",
       "      } else if (document.readyState == \"complete\") {\n",
       "        attempts++;\n",
       "        if (attempts > 200) {\n",
       "          clearInterval(timer);\n",
       "          console.log(\"Bokeh: ERROR: Unable to run BokehJS code because BokehJS library is missing\");\n",
       "        }\n",
       "      }\n",
       "    }, 25, root)\n",
       "  }\n",
       "})(window);</script>"
      ],
      "text/plain": [
       "Column\n",
       "    [0] Row\n",
       "        [0] Markdown(str)\n",
       "    [1] Row(sizing_mode='stretch_width')\n",
       "        [0] HoloViews(DynamicMap)\n",
       "        [1] Plotly(Figure)"
      ]
     },
     "execution_count": 58,
     "metadata": {
      "application/vnd.holoviews_exec.v0+json": {
       "id": "43698"
      }
     },
     "output_type": "execute_result"
    }
   ],
   "source": [
    "import operator as op\n",
    "import numpy as np\n",
    "import pandas as pd\n",
    "import requests\n",
    "import param\n",
    "import panel as pn\n",
    "import hvplot.pandas\n",
    "import hvplot.streamz\n",
    "import holoviews as hv\n",
    "from holoviews.element.tiles import EsriImagery\n",
    "from holoviews.selection import link_selections\n",
    "from datashader.utils import lnglat_to_meters\n",
    "from streamz.dataframe import PeriodicDataFrame\n",
    "import matplotlib.pyplot as plt\n",
    "import plotly.graph_objects as go\n",
    "import re\n",
    "\n",
    "def weather_data(cities, openweathermap_api_key='0d19335cb8ac57d7f05bda57a5de0433'):\n",
    "    \"\"\"\n",
    "    Get weather data for a list of cities using the openweathermap API\n",
    "    \"\"\"\n",
    "    L = []\n",
    "    for c in cities:\n",
    "        res = requests.get(f'http://api.openweathermap.org/data/2.5/weather?q={c}&appid={openweathermap_api_key}&units=imperial')\n",
    "        L.append(res.json())\n",
    "\n",
    "    df = pd.DataFrame(L)\n",
    "    df['lon'] = df['coord'].map(op.itemgetter('lon'))\n",
    "    df['lat'] = df['coord'].map(op.itemgetter('lat'))\n",
    "    df['Temprature'] = int(round(df['main'].map(op.itemgetter('temp')),0))\n",
    "    df['Humidity'] = df['main'].map(op.itemgetter('humidity'))\n",
    "    df['Wind_Speed'] = df['wind'].map(op.itemgetter('speed'))\n",
    "    return df[['name','lon', 'lat','Temprature','Humidity','Wind_Speed']]\n",
    "\n",
    "    \n",
    "def streaming_weather_data(**kwargs):\n",
    "    \"\"\"\n",
    "    callback function \n",
    "    get San Francisco weather data \n",
    "    \"\"\"\n",
    "    df = weather_data(['San Francisco'])\n",
    "    df['time'] = [pd.Timestamp.now()]\n",
    "    return df.set_index('time')\n",
    "\n",
    "# Make a streaming dataframe \n",
    "df = PeriodicDataFrame(streaming_weather_data, interval='1s')\n",
    "\n",
    "#print(df['Wind_Speed'])\n",
    "#print(df)\n",
    "\n",
    "#print(str(df['Wind_Speed']).split(\"\\t\")[0])\n",
    "\n",
    "#print(''.join(filter(str.isnumeric, str(df.Wind_Speed))))\n",
    "\n",
    "fig = go.Figure(go.Indicator(\n",
    "    mode = \"number\",\n",
    "    value = int(''.join(filter(str.isnumeric, str(df.Temprature.sum())))),\n",
    "    title = {'text': \"Reps\"}\n",
    "))\n",
    "\n",
    "fig.update_layout(\n",
    "    paper_bgcolor=\"white\",\n",
    "    height=200,  # Added parameter\n",
    "    width=200\n",
    ")\n",
    "\n",
    "np_label=pn.Column(\n",
    "    pn.Row('#Your Current Reps'),\n",
    "    pn.Row(df[['Wind_Speed']].hvplot.line(title='Humidity',backlog=1000),fig,sizing_mode='stretch_width')\n",
    ")\n",
    "\n",
    "np_label.servable()\n",
    "\n",
    "# pn_realtime = pn.Column(\n",
    "#     pn.Row(\n",
    "#       df[['Humidity']].hvplot.line(title='Humidity', backlog=1000)),\n",
    "#       #df[['Wind Speed']].hvplot.line(title='Wind Speed', backlog=1000),\n",
    "#       #df[['Wind Speed']].hvplot.table(title='TEST', backlog=1000),\n",
    "#       #print(int(str(df.Temprature.sum())[-6:-3]))\n",
    "#       fig.show()\n",
    "# )\n",
    "\n",
    "\n",
    "# pn_realtime = pn.Column(\n",
    "#     pn.Row(\n",
    "#       df[['Temprature']].hvplot.line(title='Temprature', backlog=1000),\n",
    "#       df[['Humidity']].hvplot.line(title='Humidity', backlog=1000)),\n",
    "#   df[['Wind Speed']].hvplot.line(title='Wind Speed', backlog=1000)\n",
    "# )\n",
    "\n",
    "#pn_realtime.servable()"
   ]
  }
 ],
 "metadata": {
  "kernelspec": {
   "display_name": "Python 3.8.10 64-bit",
   "language": "python",
   "name": "python3"
  },
  "language_info": {
   "codemirror_mode": {
    "name": "ipython",
    "version": 3
   },
   "file_extension": ".py",
   "mimetype": "text/x-python",
   "name": "python",
   "nbconvert_exporter": "python",
   "pygments_lexer": "ipython3",
   "version": "3.8.10"
  },
  "orig_nbformat": 4,
  "vscode": {
   "interpreter": {
    "hash": "916dbcbb3f70747c44a77c7bcd40155683ae19c65e1c03b4aa3499c5328201f1"
   }
  }
 },
 "nbformat": 4,
 "nbformat_minor": 2
}
