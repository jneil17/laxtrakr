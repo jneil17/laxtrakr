{
 "cells": [
  {
   "cell_type": "code",
   "execution_count": 1,
   "metadata": {},
   "outputs": [],
   "source": [
    "#https://github.com/mbientlab/MetaWear-SDK-Python"
   ]
  },
  {
   "cell_type": "code",
   "execution_count": 2,
   "metadata": {},
   "outputs": [],
   "source": [
    "from mbientlab.metawear import MetaWear, libmetawear\n",
    "from mbientlab.metawear.cbindings import *"
   ]
  },
  {
   "cell_type": "code",
   "execution_count": 2,
   "metadata": {},
   "outputs": [],
   "source": [
    "address = 'C8:4B:AA:97:50:05'\n",
    "\n",
    "device = MetaWear(address)\n",
    "#device.connect()"
   ]
  },
  {
   "cell_type": "code",
   "execution_count": 3,
   "metadata": {},
   "outputs": [
    {
     "ename": "NameError",
     "evalue": "name 'LedPattern' is not defined",
     "output_type": "error",
     "traceback": [
      "\u001b[0;31m---------------------------------------------------------------------------\u001b[0m",
      "\u001b[0;31mNameError\u001b[0m                                 Traceback (most recent call last)",
      "\u001b[1;32m/mnt/c/Users/john.neil/Documents/Side Projects/LaxTrakr/code/laxtrakr/live_stream.ipynb Cell 4'\u001b[0m in \u001b[0;36m<cell line: 1>\u001b[0;34m()\u001b[0m\n\u001b[0;32m----> <a href='vscode-notebook-cell://wsl%2Bubuntu/mnt/c/Users/john.neil/Documents/Side%20Projects/LaxTrakr/code/laxtrakr/live_stream.ipynb#ch0000002vscode-remote?line=0'>1</a>\u001b[0m pattern\u001b[39m=\u001b[39m LedPattern(repeat_count\u001b[39m=\u001b[39m Const\u001b[39m.\u001b[39mLED_REPEAT_INDEFINITELY)\n\u001b[1;32m      <a href='vscode-notebook-cell://wsl%2Bubuntu/mnt/c/Users/john.neil/Documents/Side%20Projects/LaxTrakr/code/laxtrakr/live_stream.ipynb#ch0000002vscode-remote?line=1'>2</a>\u001b[0m libmetawear\u001b[39m.\u001b[39mmbl_mw_led_load_preset_pattern(byref(pattern), LedPreset\u001b[39m.\u001b[39mSOLID)\n\u001b[1;32m      <a href='vscode-notebook-cell://wsl%2Bubuntu/mnt/c/Users/john.neil/Documents/Side%20Projects/LaxTrakr/code/laxtrakr/live_stream.ipynb#ch0000002vscode-remote?line=2'>3</a>\u001b[0m libmetawear\u001b[39m.\u001b[39mmbl_mw_led_write_pattern(device\u001b[39m.\u001b[39mboard, byref(pattern), LedColor\u001b[39m.\u001b[39mGREEN)\n",
      "\u001b[0;31mNameError\u001b[0m: name 'LedPattern' is not defined"
     ]
    }
   ],
   "source": [
    "pattern= LedPattern(repeat_count= Const.LED_REPEAT_INDEFINITELY)\n",
    "libmetawear.mbl_mw_led_load_preset_pattern(byref(pattern), LedPreset.SOLID)\n",
    "libmetawear.mbl_mw_led_write_pattern(device.board, byref(pattern), LedColor.GREEN)\n",
    "libmetawear.mbl_mw_led_play(device.board)"
   ]
  },
  {
   "cell_type": "code",
   "execution_count": null,
   "metadata": {},
   "outputs": [],
   "source": [
    "# usage: python led.py [mac]\n",
    "from __future__ import print_function\n",
    "from mbientlab.metawear import MetaWear, libmetawear\n",
    "from mbientlab.metawear.cbindings import *\n",
    "from time import sleep\n",
    "from threading import Event\n",
    "import sys\n",
    "device = MetaWear(sys.argv[1])\n",
    "device.connect()\n",
    "print(\"Connected\")\n",
    "pattern= LedPattern(repeat_count= Const.LED_REPEAT_INDEFINITELY)\n",
    "libmetawear.mbl_mw_led_load_preset_pattern(byref(pattern), LedPreset.SOLID)\n",
    "libmetawear.mbl_mw_led_write_pattern(device.board, byref(pattern), LedColor.GREEN)\n",
    "libmetawear.mbl_mw_led_play(device.board)\n",
    "sleep(5.0)\n",
    "libmetawear.mbl_mw_led_stop_and_clear(device.board)\n",
    "sleep(1.0)\n",
    "device.disconnect()"
   ]
  }
 ],
 "metadata": {
  "kernelspec": {
   "display_name": "Python 3.8.10 64-bit",
   "language": "python",
   "name": "python3"
  },
  "language_info": {
   "codemirror_mode": {
    "name": "ipython",
    "version": 3
   },
   "file_extension": ".py",
   "mimetype": "text/x-python",
   "name": "python",
   "nbconvert_exporter": "python",
   "pygments_lexer": "ipython3",
   "version": "3.8.10"
  },
  "orig_nbformat": 4,
  "vscode": {
   "interpreter": {
    "hash": "916dbcbb3f70747c44a77c7bcd40155683ae19c65e1c03b4aa3499c5328201f1"
   }
  }
 },
 "nbformat": 4,
 "nbformat_minor": 2
}
